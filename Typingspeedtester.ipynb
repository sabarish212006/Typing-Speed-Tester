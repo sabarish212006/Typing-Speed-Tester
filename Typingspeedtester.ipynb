{
  "nbformat": 4,
  "nbformat_minor": 0,
  "metadata": {
    "colab": {
      "provenance": [],
      "authorship_tag": "ABX9TyMhqggPk9EBRKYtNWG8t9oP",
      "include_colab_link": true
    },
    "kernelspec": {
      "name": "python3",
      "display_name": "Python 3"
    },
    "language_info": {
      "name": "python"
    }
  },
  "cells": [
    {
      "cell_type": "markdown",
      "metadata": {
        "id": "view-in-github",
        "colab_type": "text"
      },
      "source": [
        "<a href=\"https://colab.research.google.com/github/sabarish212006/Typing-Speed-Tester/blob/main/Typingspeedtester.ipynb\" target=\"_parent\"><img src=\"https://colab.research.google.com/assets/colab-badge.svg\" alt=\"Open In Colab\"/></a>"
      ]
    },
    {
      "cell_type": "code",
      "source": [
        "import time\n",
        "import random\n",
        "\n",
        "def get_random_sentence():\n",
        "    sentences = [\n",
        "        \"The quick brown fox jumps over the lazy dog.\",\n",
        "        \"Python programming is fun and powerful.\",\n",
        "        \"Typing speed tests help improve your keyboard skills.\",\n",
        "        \"Practice makes perfect in typing and coding.\",\n",
        "        \"Artificial intelligence is transforming the world.\"\n",
        "    ]\n",
        "    return random.choice(sentences)\n",
        "\n",
        "def calculate_wpm(time_taken, word_count):\n",
        "    return (word_count / time_taken) * 60 if time_taken > 0 else 0\n",
        "\n",
        "def typing_test():\n",
        "    print(\"Welcome to the Typing Speed Tester!\\n\")\n",
        "    sentence = get_random_sentence()\n",
        "    print(\"Type the following sentence as fast and accurately as you can:\\n\")\n",
        "    print(sentence)\n",
        "    print(\"\\nPress Enter when you are ready to start...\")\n",
        "    input()\n",
        "    print(\"\\nStart typing now. Press Enter when you finish.\")\n",
        "    start_time = time.time()\n",
        "    user_input = input()\n",
        "    end_time = time.time()\n",
        "    time_taken = end_time - start_time\n",
        "    word_count = len(sentence.split())\n",
        "    wpm = calculate_wpm(time_taken, word_count)\n",
        "    accuracy = sum(1 for a, b in zip(user_input, sentence) if a == b) / max(len(user_input), len(sentence))\n",
        "    print(\"\\n---------------------RESULTS---------------------\")\n",
        "    print(f\"Time taken: {time_taken:.2f} seconds\")\n",
        "    print(f\"Words per minute (WPM): {wpm:.2f}\")\n",
        "    print(f\"Accuracy: {accuracy*100:.2f}%\")\n",
        "    if user_input == sentence:\n",
        "        print(\"Great job! You typed the sentence exactly.\")\n",
        "    else:\n",
        "        print(\"Keep practicing to improve your accuracy!\")\n",
        "\n",
        "if __name__ == \"__main__\":\n",
        "    typing_test()\n"
      ],
      "metadata": {
        "colab": {
          "base_uri": "https://localhost:8080/"
        },
        "id": "cUyQG9W5cxfy",
        "outputId": "773727ec-93c5-48ca-8045-253a8378ecc7"
      },
      "execution_count": 2,
      "outputs": [
        {
          "output_type": "stream",
          "name": "stdout",
          "text": [
            "Welcome to the Typing Speed Tester!\n",
            "\n",
            "Type the following sentence as fast and accurately as you can:\n",
            "\n",
            "The quick brown fox jumps over the lazy dog.\n",
            "\n",
            "Press Enter when you are ready to start...\n",
            "The quick brown fox jumps over the lazy dog.\n",
            "\n",
            "Start typing now. Press Enter when you finish.\n",
            "The quick brown fox jumps over the lazy dog.\n",
            "\n",
            "---------------------RESULTS---------------------\n",
            "Time taken: 15.96 seconds\n",
            "Words per minute (WPM): 33.84\n",
            "Accuracy: 100.00%\n",
            "Great job! You typed the sentence exactly.\n"
          ]
        }
      ]
    },
    {
      "cell_type": "code",
      "source": [],
      "metadata": {
        "id": "EH0oVZktczm_"
      },
      "execution_count": null,
      "outputs": []
    }
  ]
}